{
 "cells": [
  {
   "cell_type": "code",
   "execution_count": null,
   "id": "47447743",
   "metadata": {},
   "outputs": [],
   "source": [
    "import pandas as pd\n",
    "from sqlalchemy import create_engine\n",
    "import matplotlib.pyplot as plt\n",
    "import ipywidgets as widgets\n",
    "from IPython.display import display\n",
    "from .load_data import get_connection_string"
   ]
  },
  {
   "cell_type": "code",
   "execution_count": null,
   "id": "785af139",
   "metadata": {},
   "outputs": [],
   "source": [
    "def read_view_to_dataframe(view_name):\n",
    "    \"\"\"\n",
    "    Uses pandas to read all data from given view in the database\n",
    "\n",
    "    Parameters:\n",
    "    view_name(string): Name of view you would like to query, \n",
    "\n",
    "    Returns:\n",
    "    Pandas Dataframe\n",
    "    \"\"\"\n",
    "    try:\n",
    "        engine = create_engine(get_connection_string())\n",
    "        # Define the SQL query to read from the view\n",
    "        sql_query = f\"SELECT * FROM {view_name};\"\n",
    "        \n",
    "        # Read the SQL view into a DataFrame\n",
    "        df = pd.read_sql(sql_query, engine)\n",
    "        \n",
    "        return df\n",
    "    except Exception as e:\n",
    "        print(f\"An error occurred: {e}\")\n",
    "    finally:\n",
    "        # Dispose of the engine to close the connection\n",
    "        engine.dispose()"
   ]
  },
  {
   "cell_type": "code",
   "execution_count": null,
   "id": "74bef915",
   "metadata": {},
   "outputs": [],
   "source": [
    "## read vw_onet_closest_oews and display the results\n",
    "dataframe = read_view_to_dataframe(\"vw_onet_closest_oews\")\n",
    "display(dataframe)"
   ]
  },
  {
   "cell_type": "code",
   "execution_count": 4,
   "id": "bd3dd3cc",
   "metadata": {},
   "outputs": [
    {
     "data": {
      "text/html": [
       "<div>\n",
       "<style scoped>\n",
       "    .dataframe tbody tr th:only-of-type {\n",
       "        vertical-align: middle;\n",
       "    }\n",
       "\n",
       "    .dataframe tbody tr th {\n",
       "        vertical-align: top;\n",
       "    }\n",
       "\n",
       "    .dataframe thead th {\n",
       "        text-align: right;\n",
       "    }\n",
       "</style>\n",
       "<table border=\"1\" class=\"dataframe\">\n",
       "  <thead>\n",
       "    <tr style=\"text-align: right;\">\n",
       "      <th></th>\n",
       "      <th>ONETSOC_Code</th>\n",
       "      <th>Element_Name</th>\n",
       "      <th>avg_a_mean</th>\n",
       "      <th>total_employment</th>\n",
       "      <th>OCC_CODE</th>\n",
       "    </tr>\n",
       "  </thead>\n",
       "  <tbody>\n",
       "    <tr>\n",
       "      <th>0</th>\n",
       "      <td>29-1141.01</td>\n",
       "      <td>Nurse Anesthetists</td>\n",
       "      <td>100000</td>\n",
       "      <td>5000</td>\n",
       "      <td>29-1141</td>\n",
       "    </tr>\n",
       "    <tr>\n",
       "      <th>1</th>\n",
       "      <td>29-1141.02</td>\n",
       "      <td>Nurse Practitioners</td>\n",
       "      <td>95000</td>\n",
       "      <td>3000</td>\n",
       "      <td>29-1141</td>\n",
       "    </tr>\n",
       "    <tr>\n",
       "      <th>2</th>\n",
       "      <td>29-1141.03</td>\n",
       "      <td>Nurse Midwives</td>\n",
       "      <td>90000</td>\n",
       "      <td>2000</td>\n",
       "      <td>29-1141</td>\n",
       "    </tr>\n",
       "    <tr>\n",
       "      <th>3</th>\n",
       "      <td>25-2346.99</td>\n",
       "      <td>Construction Manager</td>\n",
       "      <td>120000</td>\n",
       "      <td>8000</td>\n",
       "      <td>25-2346</td>\n",
       "    </tr>\n",
       "    <tr>\n",
       "      <th>4</th>\n",
       "      <td>13-6729.05</td>\n",
       "      <td>Software Engineer</td>\n",
       "      <td>45000</td>\n",
       "      <td>3000</td>\n",
       "      <td>13-6729</td>\n",
       "    </tr>\n",
       "  </tbody>\n",
       "</table>\n",
       "</div>"
      ],
      "text/plain": [
       "  ONETSOC_Code          Element_Name  avg_a_mean  total_employment OCC_CODE\n",
       "0   29-1141.01    Nurse Anesthetists      100000              5000  29-1141\n",
       "1   29-1141.02   Nurse Practitioners       95000              3000  29-1141\n",
       "2   29-1141.03        Nurse Midwives       90000              2000  29-1141\n",
       "3   25-2346.99  Construction Manager      120000              8000  25-2346\n",
       "4   13-6729.05     Software Engineer       45000              3000  13-6729"
      ]
     },
     "metadata": {},
     "output_type": "display_data"
    }
   ],
   "source": [
    "# Sample data for the vw_onet_closest_oews view\n",
    "data = {\n",
    "    'ONETSOC_Code': ['29-1141.01', '29-1141.02', '29-1141.03', '25-2346.99', '13-6729.05'],\n",
    "    'Element_Name': ['Nurse Anesthetists', 'Nurse Practitioners', 'Nurse Midwives', 'Construction Manager', 'Software Engineer'],\n",
    "    'avg_a_mean': [100000, 95000, 90000, 120000, 45000],  # Average annual wage\n",
    "    'total_employment': [5000, 3000, 2000, 8000, 3000],  # Total employment\n",
    "    'OCC_CODE': ['29-1141', '29-1141', '29-1141', '25-2346', '13-6729' ]  # 6-digit OEWS occupation code\n",
    "}\n",
    "\n",
    "# Create the DataFrame\n",
    "vw_onet_closest_oews_df = pd.DataFrame(data)\n",
    "display(vw_onet_closest_oews_df)"
   ]
  },
  {
   "cell_type": "code",
   "execution_count": null,
   "id": "33f9ffb9",
   "metadata": {},
   "outputs": [
    {
     "data": {
      "application/vnd.jupyter.widget-view+json": {
       "model_id": "20815e9b364c43ff847ca7f321066271",
       "version_major": 2,
       "version_minor": 0
      },
      "text/plain": [
       "interactive(children=(Dropdown(description='Select:', options=('Average Wage', 'Total Employement'), value='Av…"
      ]
     },
     "execution_count": 40,
     "metadata": {},
     "output_type": "execute_result"
    }
   ],
   "source": [
    "## Plot a histogram for the statistical analysis of each metric column\n",
    "def get_summery_for_column(option):\n",
    "    if option == 'Average Wage':\n",
    "        summary_stats = vw_onet_closest_oews_df['avg_a_mean'].describe()\n",
    "        labels = {\"Title\": \"Average Wage Statistic Data\",\n",
    "                  \"X\": \"Average Wage\",\n",
    "                  \"Y\": \"Wage ($)\"}\n",
    "    else:  \n",
    "        summary_stats = vw_onet_closest_oews_df['total_employment'].describe()\n",
    "        labels = {\"Title\": \"Employment Statistic Data\",\n",
    "                  \"X\": \"Total Employment\",\n",
    "                  \"Y\": \"Number of Jobs\"}\n",
    "    # convert returned list to df\n",
    "    summary_df = pd.DataFrame(summary_stats)\n",
    "    # Create a bar plot for the mean, std, min, and max\n",
    "    plt.figure(figsize=(8, 6))\n",
    "    summary_df.boxplot()\n",
    "    plt.title(labels[\"Title\"])\n",
    "    plt.ylabel(labels[\"Y\"])\n",
    "    plt.xlabel(labels[\"X\"])\n",
    "    \n",
    "\n",
    "toggle = widgets.Dropdown(\n",
    "    options=['Average Wage', 'Total Employement'],\n",
    "    value='Average Wage',\n",
    "    description='Select:',\n",
    ")\n",
    "\n",
    "widgets.interactive(get_summery_for_column, option=toggle)"
   ]
  },
  {
   "cell_type": "code",
   "execution_count": null,
   "id": "ed0675ba",
   "metadata": {},
   "outputs": [
    {
     "data": {
      "text/html": [
       "<div>\n",
       "<style scoped>\n",
       "    .dataframe tbody tr th:only-of-type {\n",
       "        vertical-align: middle;\n",
       "    }\n",
       "\n",
       "    .dataframe tbody tr th {\n",
       "        vertical-align: top;\n",
       "    }\n",
       "\n",
       "    .dataframe thead th {\n",
       "        text-align: right;\n",
       "    }\n",
       "</style>\n",
       "<table border=\"1\" class=\"dataframe\">\n",
       "  <thead>\n",
       "    <tr style=\"text-align: right;\">\n",
       "      <th></th>\n",
       "      <th>Major_Group</th>\n",
       "      <th>avg_a_mean</th>\n",
       "    </tr>\n",
       "  </thead>\n",
       "  <tbody>\n",
       "    <tr>\n",
       "      <th>0</th>\n",
       "      <td>13</td>\n",
       "      <td>45000.0</td>\n",
       "    </tr>\n",
       "    <tr>\n",
       "      <th>1</th>\n",
       "      <td>25</td>\n",
       "      <td>120000.0</td>\n",
       "    </tr>\n",
       "    <tr>\n",
       "      <th>2</th>\n",
       "      <td>29</td>\n",
       "      <td>95000.0</td>\n",
       "    </tr>\n",
       "  </tbody>\n",
       "</table>\n",
       "</div>"
      ],
      "text/plain": [
       "  Major_Group  avg_a_mean\n",
       "0          13     45000.0\n",
       "1          25    120000.0\n",
       "2          29     95000.0"
      ]
     },
     "metadata": {},
     "output_type": "display_data"
    },
    {
     "data": {
      "image/png": "[encoded data removed]",
      "text/plain": [
       "<Figure size 640x480 with 1 Axes>"
      ]
     },
     "metadata": {},
     "output_type": "display_data"
    }
   ],
   "source": [
    "## average wage by major group\n",
    "\n",
    "# define major group by creating col with first 2 didgets of occ_code\n",
    "vw_onet_closest_oews_df['Major_Group'] = vw_onet_closest_oews_df['OCC_CODE'].str[:2]\n",
    "# group by major group and calculate new mean\n",
    "average_wage_by_major_group = vw_onet_closest_oews_df.groupby('Major_Group')['avg_a_mean'].mean().reset_index()\n",
    "# handle output\n",
    "display(average_wage_by_major_group)\n",
    "plt.bar(\n",
    "    average_wage_by_major_group['Major_Group'],\n",
    "    average_wage_by_major_group['avg_a_mean'])\n",
    "plt.title('Average Wage by Major Group')\n",
    "plt.xlabel('Major Groups in OCC codes')\n",
    "plt.ylabel('Average Wage ($)')\n",
    "plt.xticks(rotation=45)\n",
    "plt.grid(axis='y')"
   ]
  },
  {
   "cell_type": "code",
   "execution_count": 8,
   "id": "eed46476",
   "metadata": {},
   "outputs": [
    {
     "data": {
      "application/vnd.jupyter.widget-view+json": {
       "model_id": "eabda8c78abf465e8f023e8dd7f0b96e",
       "version_major": 2,
       "version_minor": 0
      },
      "text/plain": [
       "interactive(children=(Dropdown(description='Select:', options=('Top 3', 'Lowest 3'), value='Top 3'), Output())…"
      ]
     },
     "execution_count": 8,
     "metadata": {},
     "output_type": "execute_result"
    }
   ],
   "source": [
    "## top or bottom 3 SOC codes by predicted wage\n",
    "\n",
    "#handle user input and select ranking\n",
    "def get_top_or_bottom(option):\n",
    "    if option == 'Top 3':\n",
    "        result = vw_onet_closest_oews_df.nlargest(3, 'avg_a_mean')\n",
    "    else:\n",
    "        result = vw_onet_closest_oews_df.nsmallest(3, 'avg_a_mean')\n",
    "    \n",
    "    ranked_codes=result[[\"avg_a_mean\", \"Element_Name\", \"ONETSOC_Code\"]]\n",
    "    ## handle output\n",
    "    display(ranked_codes)\n",
    "    plt.figure(figsize=(10, 6))\n",
    "    plt.bar(ranked_codes['Element_Name'], ranked_codes['avg_a_mean'], color='magenta')\n",
    "    plt.title('Top O*NET SOC Codes by Predicted Wage')\n",
    "    plt.xlabel('O*NET SOC Code')\n",
    "    plt.ylabel('Average Wage ($)')\n",
    "    plt.xticks(rotation=45)\n",
    "    plt.grid(axis='y')\n",
    "\n",
    "toggle = widgets.Dropdown(\n",
    "    options=['Top 3', 'Lowest 3'],\n",
    "    value='Top 3',\n",
    "    description='Select:',\n",
    ")\n",
    "\n",
    "widgets.interactive(get_top_or_bottom, option=toggle)\n"
   ]
  },
  {
   "cell_type": "code",
   "execution_count": 21,
   "id": "488c8459",
   "metadata": {},
   "outputs": [
    {
     "data": {
      "text/html": [
       "<div>\n",
       "<style scoped>\n",
       "    .dataframe tbody tr th:only-of-type {\n",
       "        vertical-align: middle;\n",
       "    }\n",
       "\n",
       "    .dataframe tbody tr th {\n",
       "        vertical-align: top;\n",
       "    }\n",
       "\n",
       "    .dataframe thead th {\n",
       "        text-align: right;\n",
       "    }\n",
       "</style>\n",
       "<table border=\"1\" class=\"dataframe\">\n",
       "  <thead>\n",
       "    <tr style=\"text-align: right;\">\n",
       "      <th></th>\n",
       "      <th>total_employment</th>\n",
       "      <th>Element_Name</th>\n",
       "      <th>ONETSOC_Code</th>\n",
       "    </tr>\n",
       "  </thead>\n",
       "  <tbody>\n",
       "    <tr>\n",
       "      <th>3</th>\n",
       "      <td>8000</td>\n",
       "      <td>Construction Manager</td>\n",
       "      <td>25-2346.99</td>\n",
       "    </tr>\n",
       "    <tr>\n",
       "      <th>0</th>\n",
       "      <td>5000</td>\n",
       "      <td>Nurse Anesthetists</td>\n",
       "      <td>29-1141.01</td>\n",
       "    </tr>\n",
       "    <tr>\n",
       "      <th>1</th>\n",
       "      <td>3000</td>\n",
       "      <td>Nurse Practitioners</td>\n",
       "      <td>29-1141.02</td>\n",
       "    </tr>\n",
       "  </tbody>\n",
       "</table>\n",
       "</div>"
      ],
      "text/plain": [
       "   total_employment          Element_Name ONETSOC_Code\n",
       "3              8000  Construction Manager   25-2346.99\n",
       "0              5000    Nurse Anesthetists   29-1141.01\n",
       "1              3000   Nurse Practitioners   29-1141.02"
      ]
     },
     "metadata": {},
     "output_type": "display_data"
    },
    {
     "data": {
      "image/png": "[encoded data removed]",
      "text/plain": [
       "<Figure size 1000x800 with 1 Axes>"
      ]
     },
     "metadata": {},
     "output_type": "display_data"
    }
   ],
   "source": [
    "# find the top 3 most populated jobs\n",
    "top_3_most_jobs = vw_onet_closest_oews_df.nlargest(3, \"total_employment\")[[\"total_employment\", \"Element_Name\", \"ONETSOC_Code\"]]\n",
    "\n",
    "# handle output\n",
    "plt.figure(figsize=(10, 8))\n",
    "plt.pie(top_3_most_jobs['total_employment'], \n",
    "        labels=top_3_most_jobs['Element_Name'], \n",
    "        autopct='%1.1f%%', \n",
    "        startangle=140, \n",
    "        colors=plt.cm.Paired.colors)\n",
    "plt.title('Top 10 O*NET SOC Codes by Employment')\n",
    "display(top_3_most_jobs)\n",
    "\n"
   ]
  }
 ],
 "metadata": {
  "kernelspec": {
   "display_name": "Python 3",
   "language": "python",
   "name": "python3"
  },
  "language_info": {
   "codemirror_mode": {
    "name": "ipython",
    "version": 3
   },
   "file_extension": ".py",
   "mimetype": "text/x-python",
   "name": "python",
   "nbconvert_exporter": "python",
   "pygments_lexer": "ipython3",
   "version": "3.13.3"
  }
 },
 "nbformat": 4,
 "nbformat_minor": 5
}
