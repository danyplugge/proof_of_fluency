{
 "cells": [
  {
   "cell_type": "code",
   "execution_count": 10,
   "id": "d951145f",
   "metadata": {},
   "outputs": [
    {
     "name": "stdout",
     "output_type": "stream",
     "text": [
      "Collecting sqlalchemy\n",
      "  Downloading sqlalchemy-2.0.41-cp39-cp39-win_amd64.whl (2.1 MB)\n",
      "Requirement already satisfied: typing-extensions>=4.6.0 in c:\\users\\dany\\appdata\\roaming\\python\\python39\\site-packages (from sqlalchemy) (4.14.1)\n",
      "Collecting greenlet>=1; python_version < \"3.14\" and (platform_machine == \"aarch64\" or (platform_machine == \"ppc64le\" or (platform_machine == \"x86_64\" or (platform_machine == \"amd64\" or (platform_machine == \"AMD64\" or (platform_machine == \"win32\" or platform_machine == \"WIN32\"))))))\n",
      "  Downloading greenlet-3.2.3-cp39-cp39-win_amd64.whl (296 kB)\n",
      "Installing collected packages: greenlet, sqlalchemy\n",
      "Successfully installed greenlet-3.2.3 sqlalchemy-2.0.41\n",
      "Note: you may need to restart the kernel to use updated packages.\n"
     ]
    },
    {
     "name": "stderr",
     "output_type": "stream",
     "text": [
      "WARNING: You are using pip version 20.2.3; however, version 25.1.1 is available.\n",
      "You should consider upgrading via the 'c:\\Users\\Dany\\AppData\\Local\\Programs\\Python\\Python39\\python.exe -m pip install --upgrade pip' command.\n"
     ]
    }
   ],
   "source": [
    "%pip install sqlalchemy\n",
    "\n"
   ]
  },
  {
   "cell_type": "code",
   "execution_count": 1,
   "id": "47447743",
   "metadata": {},
   "outputs": [],
   "source": [
    "import pandas as pd\n",
    "from sqlalchemy import create_engine\n",
    "#TODO:from .load_data import get_connection_string"
   ]
  },
  {
   "cell_type": "markdown",
   "id": "60af6bd6",
   "metadata": {},
   "source": [
    "Read one of the views (vw_onet_closest_oews is fine) via pandas.read_sql."
   ]
  },
  {
   "cell_type": "code",
   "execution_count": 2,
   "id": "1f5382f7",
   "metadata": {},
   "outputs": [],
   "source": [
    "const = {\n",
    "    ## TODO: find a better way to access this data in JSON- place holder is xlsx file in project folder\n",
    "    \"oews_source\": \"https://www.bls.gov/oes/tables.htm\", ## state labor data for MD\n",
    "    \"oews_local\": \"./Data/oesm24st/state_M2024_dl.xlsx\",\n",
    "    \"onet\": \"https://www.onetcenter.org/database.html#individual-files\",\n",
    "    \"onet_local\": \"./Data/Skills.xls\",\n",
    "    ## TODO: put sensetive consts in protected folder and allow for enviromental differences\n",
    "    \"db_user\": \"admin\",\n",
    "    \"db_password\": \"admin\",\n",
    "    \"db_host\": \"localhost\",\n",
    "    \"db_port\": \"5432\",\n",
    "    \"db_name\": \"oews_onetA\",\n",
    "}\n",
    "\n",
    "def get_connection_string():\n",
    "     \"\"\"\n",
    "    connection string builder\n",
    "    \n",
    "    Returns:\n",
    "    String path link to access db\n",
    "    \"\"\"\n",
    "     return f'postgresql://{const[\"db_user\"]}:{const[\"db_password\"]}@{const[\"db_host\"]}:{const[\"db_port\"]}/{const[\"db_name\"]}'\n"
   ]
  },
  {
   "cell_type": "code",
   "execution_count": 3,
   "id": "785af139",
   "metadata": {},
   "outputs": [],
   "source": [
    "def read_view_to_dataframe(view_name):\n",
    "    try:\n",
    "        engine = create_engine(get_connection_string())\n",
    "        # Define the SQL query to read from the view\n",
    "        sql_query = f\"SELECT * FROM {view_name};\"\n",
    "        \n",
    "        # Read the SQL view into a DataFrame\n",
    "        df = pd.read_sql(sql_query, engine)\n",
    "        \n",
    "        return df\n",
    "    except Exception as e:\n",
    "        print(f\"An error occurred: {e}\")\n",
    "    finally:\n",
    "        # Dispose of the engine to close the connection\n",
    "        engine.dispose()"
   ]
  },
  {
   "cell_type": "code",
   "execution_count": 6,
   "id": "5686a0c0",
   "metadata": {},
   "outputs": [
    {
     "name": "stdout",
     "output_type": "stream",
     "text": [
      "An error occurred: (psycopg2.errors.UndefinedTable) relation \"vw_onet_closest_oews\" does not exist\n",
      "LINE 1: SELECT * FROM vw_onet_closest_oews;\n",
      "                      ^\n",
      "\n",
      "[SQL: SELECT * FROM vw_onet_closest_oews;]\n",
      "(Background on this error at: https://sqlalche.me/e/20/f405)\n"
     ]
    },
    {
     "data": {
      "text/plain": [
       "None"
      ]
     },
     "metadata": {},
     "output_type": "display_data"
    }
   ],
   "source": [
    "dataframe = read_view_to_dataframe(\"vw_onet_closest_oews\")\n",
    "display(dataframe)"
   ]
  },
  {
   "cell_type": "code",
   "execution_count": 17,
   "id": "09038372",
   "metadata": {},
   "outputs": [
    {
     "data": {
      "text/html": [
       "<div>\n",
       "<style scoped>\n",
       "    .dataframe tbody tr th:only-of-type {\n",
       "        vertical-align: middle;\n",
       "    }\n",
       "\n",
       "    .dataframe tbody tr th {\n",
       "        vertical-align: top;\n",
       "    }\n",
       "\n",
       "    .dataframe thead th {\n",
       "        text-align: right;\n",
       "    }\n",
       "</style>\n",
       "<table border=\"1\" class=\"dataframe\">\n",
       "  <thead>\n",
       "    <tr style=\"text-align: right;\">\n",
       "      <th></th>\n",
       "      <th>occ_code</th>\n",
       "      <th>avg_a_mean</th>\n",
       "      <th>total_employment</th>\n",
       "      <th>onetsoc_code</th>\n",
       "    </tr>\n",
       "  </thead>\n",
       "  <tbody>\n",
       "  </tbody>\n",
       "</table>\n",
       "</div>"
      ],
      "text/plain": [
       "Empty DataFrame\n",
       "Columns: [occ_code, avg_a_mean, total_employment, onetsoc_code]\n",
       "Index: []"
      ]
     },
     "metadata": {},
     "output_type": "display_data"
    }
   ],
   "source": [
    "dataframe = read_view_to_dataframe(\"vw_oews_avg_over_onet\")\n",
    "display(dataframe)"
   ]
  },
  {
   "cell_type": "code",
   "execution_count": 5,
   "id": "43b36f5b",
   "metadata": {},
   "outputs": [
    {
     "data": {
      "text/plain": [
       "(0, 6)"
      ]
     },
     "metadata": {},
     "output_type": "display_data"
    }
   ],
   "source": [
    "dataframe = read_view_to_dataframe(\"oews_raw\")\n",
    "display(dataframe.shape)"
   ]
  },
  {
   "cell_type": "code",
   "execution_count": 4,
   "id": "861ae781",
   "metadata": {},
   "outputs": [
    {
     "data": {
      "text/plain": [
       "(0, 5)"
      ]
     },
     "metadata": {},
     "output_type": "display_data"
    }
   ],
   "source": [
    "dataframe = read_view_to_dataframe(\"onet_skills\")\n",
    "display(dataframe.shape)"
   ]
  },
  {
   "cell_type": "code",
   "execution_count": null,
   "id": "1d00463f",
   "metadata": {},
   "outputs": [],
   "source": [
    "\n",
    "\n",
    "Perform a brief aggregation or visualization, e.g. average wage by major group, \n",
    "top 10 SOC codes by predicted wage, etc.\n",
    "\n",
    "A few comments interpreting the result are welcome."
   ]
  },
  {
   "cell_type": "code",
   "execution_count": null,
   "id": "fcf55ff4",
   "metadata": {},
   "outputs": [],
   "source": [
    "avg_wage_by_group = average_weight = df.groupby('Group')['Weight'].mean().reset_index()\n",
    "\n",
    "threshold = average_weight['Average Weight'].quantile(0.9)\n",
    "\n",
    "top_10_percent_groups = average_weight[average_weight['Average Weight'] > threshold]"
   ]
  },
  {
   "cell_type": "code",
   "execution_count": null,
   "id": "b7ac7055",
   "metadata": {},
   "outputs": [],
   "source": []
  }
 ],
 "metadata": {
  "kernelspec": {
   "display_name": "Python 3",
   "language": "python",
   "name": "python3"
  },
  "language_info": {
   "codemirror_mode": {
    "name": "ipython",
    "version": 3
   },
   "file_extension": ".py",
   "mimetype": "text/x-python",
   "name": "python",
   "nbconvert_exporter": "python",
   "pygments_lexer": "ipython3",
   "version": "3.9.2"
  }
 },
 "nbformat": 4,
 "nbformat_minor": 5
}
